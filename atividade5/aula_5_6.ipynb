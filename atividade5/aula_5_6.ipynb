{
  "nbformat": 4,
  "nbformat_minor": 0,
  "metadata": {
    "colab": {
      "provenance": [],
      "authorship_tag": "ABX9TyOBh8rNbYQf9vLdZkUCSEcS",
      "include_colab_link": true
    },
    "kernelspec": {
      "name": "python3",
      "display_name": "Python 3"
    },
    "language_info": {
      "name": "python"
    }
  },
  "cells": [
    {
      "cell_type": "markdown",
      "metadata": {
        "id": "view-in-github",
        "colab_type": "text"
      },
      "source": [
        "<a href=\"https://colab.research.google.com/github/aliceczr/novas_tecnologias/blob/main/atividade5/aula_5_6.ipynb\" target=\"_parent\"><img src=\"https://colab.research.google.com/assets/colab-badge.svg\" alt=\"Open In Colab\"/></a>"
      ]
    },
    {
      "cell_type": "code",
      "execution_count": 1,
      "metadata": {
        "id": "R-Q8WAls1ntm"
      },
      "outputs": [],
      "source": [
        "import csv"
      ]
    },
    {
      "cell_type": "code",
      "source": [
        "agenda = []\n"
      ],
      "metadata": {
        "id": "jtjvLq3t2yQD"
      },
      "execution_count": 2,
      "outputs": []
    },
    {
      "cell_type": "code",
      "source": [
        "def adicionar_contato():\n",
        "    nome = input(\"Nome: \")\n",
        "    telefone = input(\"Telefone: \")\n",
        "    aniversario = input(\"Data de aniversário: \")\n",
        "    email = input(\"Email: \")\n",
        "    tipo_telefone = input(\"Tipo de telefone (celular, fixo, residência ou trabalho): \")\n",
        "    contato = {'nome': nome, 'telefone': telefone, 'aniversario': aniversario, 'email': email, 'tipo_telefone': tipo_telefone}\n",
        "    if any(c['nome'] == nome for c in agenda):\n",
        "        print(\"Erro: Já existe um contato com esse nome.\")\n",
        "    else:\n",
        "        agenda.append(contato)\n",
        "        print(\"Contato adicionado com sucesso.\")"
      ],
      "metadata": {
        "id": "ZYAjqlmc21a-"
      },
      "execution_count": 3,
      "outputs": []
    },
    {
      "cell_type": "code",
      "source": [
        "def apagar_contato():\n",
        "    nome = input(\"Nome do contato a apagar: \")\n",
        "    global agenda\n",
        "    agenda = [contato for contato in agenda if contato['nome'] != nome]\n",
        "    print(\"Contato apagado com sucesso.\")"
      ],
      "metadata": {
        "id": "tCnOHquC226f"
      },
      "execution_count": 4,
      "outputs": []
    },
    {
      "cell_type": "code",
      "source": [
        "def alterar_contato():\n",
        "    nome = input(\"Nome do contato a alterar: \")\n",
        "    for contato in agenda:\n",
        "        if contato['nome'] == nome:\n",
        "            contato['telefone'] = input(\"Novo telefone: \")\n",
        "            contato['aniversario'] = input(\"Nova data de aniversário: \")\n",
        "            contato['email'] = input(\"Novo email: \")\n",
        "            contato['tipo_telefone'] = input(\"Novo tipo de telefone: \")\n",
        "            print(\"Contato alterado com sucesso.\")\n",
        "            return\n",
        "    print(\"Contato não encontrado.\")"
      ],
      "metadata": {
        "id": "IUk7IvA327Xf"
      },
      "execution_count": 5,
      "outputs": []
    },
    {
      "cell_type": "code",
      "source": [
        "def listar_contatos():\n",
        "    if not agenda:\n",
        "        print(\"Agenda vazia.\")\n",
        "        return\n",
        "    for i, contato in enumerate(agenda, start=1):\n",
        "        print(f\" Nome: {contato['nome']}, Telefone: {contato['telefone']}, Aniversário: {contato['aniversario']}, Email: {contato['email']}, Tipo de Telefone: {contato['tipo_telefone']}\")\n"
      ],
      "metadata": {
        "id": "6U2EbxUv29nh"
      },
      "execution_count": 12,
      "outputs": []
    },
    {
      "cell_type": "code",
      "source": [
        "def salvar_agenda_csv():\n",
        "    with open(\"agenda.csv\", \"w\", newline='') as arquivo_csv:\n",
        "        campos = ['nome', 'telefone', 'aniversario', 'email', 'tipo_telefone']\n",
        "        escritor_csv = csv.DictWriter(arquivo_csv, fieldnames=campos)\n",
        "        escritor_csv.writeheader()\n",
        "        for contato in agenda:\n",
        "            escritor_csv.writerow(contato)\n",
        "    print(\"Agenda salva com sucesso.\")"
      ],
      "metadata": {
        "id": "pb41Sf0o3CKp"
      },
      "execution_count": 7,
      "outputs": []
    },
    {
      "cell_type": "code",
      "source": [
        "def menu():\n",
        "    print(\"\\nMENU:\")\n",
        "    print(\"1. Adicionar contato\")\n",
        "    print(\"2. Apagar contato\")\n",
        "    print(\"3. Alterar contato\")\n",
        "    print(\"4. Listar contatos\")\n",
        "    print(\"5. Salvar agenda em arquivo CSV\")\n",
        "    print(\"6. Sair\")\n"
      ],
      "metadata": {
        "id": "n_-Yurem3EHi"
      },
      "execution_count": 8,
      "outputs": []
    },
    {
      "cell_type": "code",
      "source": [
        "def main():\n",
        "    try:\n",
        "        with open(\"agenda.csv\", \"r\", newline='') as arquivo_csv:\n",
        "            leitor_csv = csv.DictReader(arquivo_csv)\n",
        "            for linha in leitor_csv:\n",
        "                agenda.append(linha)\n",
        "    except FileNotFoundError:\n",
        "        pass"
      ],
      "metadata": {
        "id": "PUXoDvAU3Fh2"
      },
      "execution_count": 9,
      "outputs": []
    },
    {
      "cell_type": "code",
      "source": [
        "   while True:\n",
        "        menu()\n",
        "        opcao = input(\"Escolha uma opção: \")\n",
        "\n",
        "        if opcao == '1':\n",
        "            adicionar_contato()\n",
        "        elif opcao == '2':\n",
        "            apagar_contato()\n",
        "        elif opcao == '3':\n",
        "            alterar_contato()\n",
        "        elif opcao == '4':\n",
        "            listar_contatos()\n",
        "        elif opcao == '5':\n",
        "            salvar_agenda_csv()\n",
        "        elif opcao == '6':\n",
        "            break\n",
        "        else:\n",
        "            print(\"Opção inválida.\")"
      ],
      "metadata": {
        "colab": {
          "base_uri": "https://localhost:8080/"
        },
        "id": "XRqFdJkB3Itj",
        "outputId": "db097158-67d5-44a3-ef20-0aaf2774733a"
      },
      "execution_count": 10,
      "outputs": [
        {
          "name": "stdout",
          "output_type": "stream",
          "text": [
            "\n",
            "MENU:\n",
            "1. Adicionar contato\n",
            "2. Apagar contato\n",
            "3. Alterar contato\n",
            "4. Listar contatos\n",
            "5. Salvar agenda em arquivo CSV\n",
            "6. Sair\n",
            "Escolha uma opção: 1\n",
            "Nome: Giovanna\n",
            "Telefone: 6199999999\n",
            "Data de aniversário: 28/08/2002\n",
            "Email: giiovana@gmail.com\n",
            "Tipo de telefone (celular, fixo, residência ou trabalho): celular\n",
            "Contato adicionado com sucesso.\n",
            "\n",
            "MENU:\n",
            "1. Adicionar contato\n",
            "2. Apagar contato\n",
            "3. Alterar contato\n",
            "4. Listar contatos\n",
            "5. Salvar agenda em arquivo CSV\n",
            "6. Sair\n",
            "Escolha uma opção: 1\n",
            "Nome: Greyciane\n",
            "Telefone: 430034004\n",
            "Data de aniversário: 20/12/2001\n",
            "Email: greyiciane@gmail.com\n",
            "Tipo de telefone (celular, fixo, residência ou trabalho): celular\n",
            "Contato adicionado com sucesso.\n",
            "\n",
            "MENU:\n",
            "1. Adicionar contato\n",
            "2. Apagar contato\n",
            "3. Alterar contato\n",
            "4. Listar contatos\n",
            "5. Salvar agenda em arquivo CSV\n",
            "6. Sair\n",
            "Escolha uma opção: 1\n",
            "Nome: Alice\n",
            "Telefone: 61996501291\n",
            "Data de aniversário: 10/01/2003\n",
            "Email: alice@gmail.com\n",
            "Tipo de telefone (celular, fixo, residência ou trabalho): celular\n",
            "Contato adicionado com sucesso.\n",
            "\n",
            "MENU:\n",
            "1. Adicionar contato\n",
            "2. Apagar contato\n",
            "3. Alterar contato\n",
            "4. Listar contatos\n",
            "5. Salvar agenda em arquivo CSV\n",
            "6. Sair\n",
            "Escolha uma opção: 5\n",
            "Agenda salva com sucesso.\n",
            "\n",
            "MENU:\n",
            "1. Adicionar contato\n",
            "2. Apagar contato\n",
            "3. Alterar contato\n",
            "4. Listar contatos\n",
            "5. Salvar agenda em arquivo CSV\n",
            "6. Sair\n",
            "Escolha uma opção: 3\n",
            "Nome do contato a alterar: Alice\n",
            "Novo telefone: 61996501291\n",
            "Nova data de aniversário: 10/01/2003\n",
            "Novo email: alicecruz@gmail.com\n",
            "Novo tipo de telefone: celular\n",
            "Contato alterado com sucesso.\n",
            "\n",
            "MENU:\n",
            "1. Adicionar contato\n",
            "2. Apagar contato\n",
            "3. Alterar contato\n",
            "4. Listar contatos\n",
            "5. Salvar agenda em arquivo CSV\n",
            "6. Sair\n",
            "Escolha uma opção: 4\n",
            "Posição: 1, Nome: Giovanna, Telefone: 6199999999, Aniversário: 28/08/2002, Email: giiovana@gmail.com, Tipo de Telefone: celular\n",
            "Posição: 2, Nome: Greyciane, Telefone: 430034004, Aniversário: 20/12/2001, Email: greyiciane@gmail.com, Tipo de Telefone: celular\n",
            "Posição: 3, Nome: Alice, Telefone: 61996501291, Aniversário: 10/01/2003, Email: alicecruz@gmail.com, Tipo de Telefone: celular\n",
            "\n",
            "MENU:\n",
            "1. Adicionar contato\n",
            "2. Apagar contato\n",
            "3. Alterar contato\n",
            "4. Listar contatos\n",
            "5. Salvar agenda em arquivo CSV\n",
            "6. Sair\n",
            "Escolha uma opção: 2\n",
            "Nome do contato a apagar: Greyciane\n",
            "Contato apagado com sucesso.\n",
            "\n",
            "MENU:\n",
            "1. Adicionar contato\n",
            "2. Apagar contato\n",
            "3. Alterar contato\n",
            "4. Listar contatos\n",
            "5. Salvar agenda em arquivo CSV\n",
            "6. Sair\n",
            "Escolha uma opção: 4\n",
            "Posição: 1, Nome: Giovanna, Telefone: 6199999999, Aniversário: 28/08/2002, Email: giiovana@gmail.com, Tipo de Telefone: celular\n",
            "Posição: 2, Nome: Alice, Telefone: 61996501291, Aniversário: 10/01/2003, Email: alicecruz@gmail.com, Tipo de Telefone: celular\n",
            "\n",
            "MENU:\n",
            "1. Adicionar contato\n",
            "2. Apagar contato\n",
            "3. Alterar contato\n",
            "4. Listar contatos\n",
            "5. Salvar agenda em arquivo CSV\n",
            "6. Sair\n",
            "Escolha uma opção: 5\n",
            "Agenda salva com sucesso.\n",
            "\n",
            "MENU:\n",
            "1. Adicionar contato\n",
            "2. Apagar contato\n",
            "3. Alterar contato\n",
            "4. Listar contatos\n",
            "5. Salvar agenda em arquivo CSV\n",
            "6. Sair\n",
            "Escolha uma opção: 6\n"
          ]
        }
      ]
    }
  ]
}